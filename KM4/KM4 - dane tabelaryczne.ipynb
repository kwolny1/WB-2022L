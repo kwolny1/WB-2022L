{
 "cells": [
  {
   "cell_type": "markdown",
   "id": "e7eee4e3",
   "metadata": {},
   "source": [
    "## Processing danych tabelarycznych"
   ]
  },
  {
   "cell_type": "code",
   "execution_count": 1,
   "id": "d7398d8a",
   "metadata": {},
   "outputs": [],
   "source": [
    "import numpy as np \n",
    "import pandas as pd \n",
    "import pydicom,os,cv2\n",
    "from glob import glob\n",
    "from tqdm import tqdm\n",
    "import matplotlib.pyplot as plt\n",
    "import seaborn as sns"
   ]
  },
  {
   "cell_type": "markdown",
   "id": "33af80d5",
   "metadata": {},
   "source": [
    "### Siim_train_test"
   ]
  },
  {
   "cell_type": "markdown",
   "id": "39c0cf46",
   "metadata": {},
   "source": [
    "Najpierw tworzę ramke danych zapisanych w dicomie:"
   ]
  },
  {
   "cell_type": "code",
   "execution_count": 2,
   "id": "4c1bb49d",
   "metadata": {},
   "outputs": [],
   "source": [
    "df = pd.read_csv('C:/Users/maaja/Desktop/AndrzejczukMaja/archive/siim/train-rle.csv')\n",
    "train_fns = sorted(glob('C:/Users/maaja/Desktop/AndrzejczukMaja/archive/siim/dicom-images-train/*/*/*.dcm'))\n",
    "test_fns = sorted(glob('C:/Users/maaja/Desktop/AndrzejczukMaja/archive/siim/dicom-images-test/*/*/*.dcm'))"
   ]
  },
  {
   "cell_type": "code",
   "execution_count": 3,
   "id": "693d6265",
   "metadata": {},
   "outputs": [],
   "source": [
    "missing = 0\n",
    "multiple = 0\n",
    "patients_data = []\n",
    "for k,paths in enumerate(train_fns):\n",
    "    patient = {}\n",
    "    img_id = paths.split('\\\\')[-1]\n",
    "    data = pydicom.dcmread(paths)\n",
    "    try:\n",
    "        tmp = df[df['ImageId'] == '.'.join(img_id.split('.')[:-1])]\n",
    "        \n",
    "        if tmp.shape[0] > 1: \n",
    "            multiple += 1\n",
    "        rle = tmp[' EncodedPixels'].values\n",
    "        if rle[0] == '-1':\n",
    "            pixels = rle[0]\n",
    "        else:    \n",
    "            pixels = [i for i in rle]\n",
    "        \n",
    "        patient[\"UID\"] = data.SOPInstanceUID\n",
    "        patient['EncodedPixels'] = pixels\n",
    "        patient[\"Age\"] = data.PatientAge\n",
    "        patient[\"Sex\"] = data.PatientSex\n",
    "        patient[\"Modality\"] = data.Modality\n",
    "        patient[\"BodyPart\"] = data.BodyPartExamined\n",
    "        patient[\"ViewPosition\"] = data.ViewPosition\n",
    "        patient[\"filepath\"] = paths\n",
    "        patients_data.append(patient)\n",
    "    except:\n",
    "        missing += 1\n"
   ]
  },
  {
   "cell_type": "code",
   "execution_count": 4,
   "id": "97eb5c9c",
   "metadata": {},
   "outputs": [
    {
     "data": {
      "text/html": [
       "<div>\n",
       "<style scoped>\n",
       "    .dataframe tbody tr th:only-of-type {\n",
       "        vertical-align: middle;\n",
       "    }\n",
       "\n",
       "    .dataframe tbody tr th {\n",
       "        vertical-align: top;\n",
       "    }\n",
       "\n",
       "    .dataframe thead th {\n",
       "        text-align: right;\n",
       "    }\n",
       "</style>\n",
       "<table border=\"1\" class=\"dataframe\">\n",
       "  <thead>\n",
       "    <tr style=\"text-align: right;\">\n",
       "      <th></th>\n",
       "      <th>UID</th>\n",
       "      <th>EncodedPixels</th>\n",
       "      <th>Age</th>\n",
       "      <th>Sex</th>\n",
       "      <th>Modality</th>\n",
       "      <th>BodyPart</th>\n",
       "      <th>ViewPosition</th>\n",
       "      <th>Pneumothorax</th>\n",
       "    </tr>\n",
       "  </thead>\n",
       "  <tbody>\n",
       "    <tr>\n",
       "      <th>0</th>\n",
       "      <td>1.2.276.0.7230010.3.1.4.8323329.1000.151787516...</td>\n",
       "      <td>-1</td>\n",
       "      <td>38</td>\n",
       "      <td>M</td>\n",
       "      <td>CR</td>\n",
       "      <td>CHEST</td>\n",
       "      <td>PA</td>\n",
       "      <td>0</td>\n",
       "    </tr>\n",
       "    <tr>\n",
       "      <th>1</th>\n",
       "      <td>1.2.276.0.7230010.3.1.4.8323329.10000.15178752...</td>\n",
       "      <td>-1</td>\n",
       "      <td>10</td>\n",
       "      <td>F</td>\n",
       "      <td>CR</td>\n",
       "      <td>CHEST</td>\n",
       "      <td>AP</td>\n",
       "      <td>0</td>\n",
       "    </tr>\n",
       "    <tr>\n",
       "      <th>2</th>\n",
       "      <td>1.2.276.0.7230010.3.1.4.8323329.10001.15178752...</td>\n",
       "      <td>-1</td>\n",
       "      <td>50</td>\n",
       "      <td>F</td>\n",
       "      <td>CR</td>\n",
       "      <td>CHEST</td>\n",
       "      <td>AP</td>\n",
       "      <td>0</td>\n",
       "    </tr>\n",
       "    <tr>\n",
       "      <th>3</th>\n",
       "      <td>1.2.276.0.7230010.3.1.4.8323329.10002.15178752...</td>\n",
       "      <td>-1</td>\n",
       "      <td>68</td>\n",
       "      <td>F</td>\n",
       "      <td>CR</td>\n",
       "      <td>CHEST</td>\n",
       "      <td>AP</td>\n",
       "      <td>0</td>\n",
       "    </tr>\n",
       "    <tr>\n",
       "      <th>4</th>\n",
       "      <td>1.2.276.0.7230010.3.1.4.8323329.10003.15178752...</td>\n",
       "      <td>-1</td>\n",
       "      <td>65</td>\n",
       "      <td>M</td>\n",
       "      <td>CR</td>\n",
       "      <td>CHEST</td>\n",
       "      <td>AP</td>\n",
       "      <td>0</td>\n",
       "    </tr>\n",
       "  </tbody>\n",
       "</table>\n",
       "</div>"
      ],
      "text/plain": [
       "                                                 UID EncodedPixels Age Sex  \\\n",
       "0  1.2.276.0.7230010.3.1.4.8323329.1000.151787516...            -1  38   M   \n",
       "1  1.2.276.0.7230010.3.1.4.8323329.10000.15178752...            -1  10   F   \n",
       "2  1.2.276.0.7230010.3.1.4.8323329.10001.15178752...            -1  50   F   \n",
       "3  1.2.276.0.7230010.3.1.4.8323329.10002.15178752...            -1  68   F   \n",
       "4  1.2.276.0.7230010.3.1.4.8323329.10003.15178752...            -1  65   M   \n",
       "\n",
       "  Modality BodyPart ViewPosition  Pneumothorax  \n",
       "0       CR    CHEST           PA             0  \n",
       "1       CR    CHEST           AP             0  \n",
       "2       CR    CHEST           AP             0  \n",
       "3       CR    CHEST           AP             0  \n",
       "4       CR    CHEST           AP             0  "
      ]
     },
     "execution_count": 4,
     "metadata": {},
     "output_type": "execute_result"
    }
   ],
   "source": [
    "df_patients = pd.DataFrame(patients_data, columns=[\"UID\", \"EncodedPixels\", \"Age\", \n",
    "                            \"Sex\", \"Modality\", \"BodyPart\", \"ViewPosition\"])\n",
    "\n",
    "df_patients['Pneumothorax'] = df_patients['EncodedPixels'].apply(lambda x:0 if x == '-1' else 1)\n",
    "df_patients['Pneumothorax'] = df_patients['Pneumothorax'].astype('int')\n",
    "df_patients.head() "
   ]
  },
  {
   "cell_type": "code",
   "execution_count": 5,
   "id": "6207033e",
   "metadata": {
    "scrolled": false
   },
   "outputs": [
    {
     "name": "stdout",
     "output_type": "stream",
     "text": [
      "<class 'pandas.core.frame.DataFrame'>\n",
      "RangeIndex: 12047 entries, 0 to 12046\n",
      "Data columns (total 8 columns):\n",
      " #   Column         Non-Null Count  Dtype \n",
      "---  ------         --------------  ----- \n",
      " 0   UID            12047 non-null  object\n",
      " 1   EncodedPixels  12047 non-null  object\n",
      " 2   Age            12047 non-null  object\n",
      " 3   Sex            12047 non-null  object\n",
      " 4   Modality       12047 non-null  object\n",
      " 5   BodyPart       12047 non-null  object\n",
      " 6   ViewPosition   12047 non-null  object\n",
      " 7   Pneumothorax   12047 non-null  int32 \n",
      "dtypes: int32(1), object(7)\n",
      "memory usage: 706.0+ KB\n"
     ]
    }
   ],
   "source": [
    "df_patients.info()"
   ]
  },
  {
   "cell_type": "markdown",
   "id": "16fefd2b",
   "metadata": {},
   "source": [
    "Nie mamy wartości null"
   ]
  },
  {
   "cell_type": "code",
   "execution_count": 6,
   "id": "5cf8b50d",
   "metadata": {},
   "outputs": [],
   "source": [
    "df_patients['Age'] = df_patients['Age'].astype('int') "
   ]
  },
  {
   "cell_type": "code",
   "execution_count": 7,
   "id": "c52fcb83",
   "metadata": {},
   "outputs": [
    {
     "data": {
      "text/html": [
       "<div>\n",
       "<style scoped>\n",
       "    .dataframe tbody tr th:only-of-type {\n",
       "        vertical-align: middle;\n",
       "    }\n",
       "\n",
       "    .dataframe tbody tr th {\n",
       "        vertical-align: top;\n",
       "    }\n",
       "\n",
       "    .dataframe thead th {\n",
       "        text-align: right;\n",
       "    }\n",
       "</style>\n",
       "<table border=\"1\" class=\"dataframe\">\n",
       "  <thead>\n",
       "    <tr style=\"text-align: right;\">\n",
       "      <th></th>\n",
       "      <th>UID</th>\n",
       "      <th>EncodedPixels</th>\n",
       "      <th>Age</th>\n",
       "      <th>Sex</th>\n",
       "      <th>Modality</th>\n",
       "      <th>BodyPart</th>\n",
       "      <th>ViewPosition</th>\n",
       "      <th>Pneumothorax</th>\n",
       "    </tr>\n",
       "  </thead>\n",
       "  <tbody>\n",
       "    <tr>\n",
       "      <th>1204</th>\n",
       "      <td>1.2.276.0.7230010.3.1.4.8323329.11106.15178752...</td>\n",
       "      <td>-1</td>\n",
       "      <td>413</td>\n",
       "      <td>F</td>\n",
       "      <td>CR</td>\n",
       "      <td>CHEST</td>\n",
       "      <td>AP</td>\n",
       "      <td>0</td>\n",
       "    </tr>\n",
       "    <tr>\n",
       "      <th>9624</th>\n",
       "      <td>1.2.276.0.7230010.3.1.4.8323329.4830.151787518...</td>\n",
       "      <td>-1</td>\n",
       "      <td>148</td>\n",
       "      <td>M</td>\n",
       "      <td>CR</td>\n",
       "      <td>CHEST</td>\n",
       "      <td>PA</td>\n",
       "      <td>0</td>\n",
       "    </tr>\n",
       "  </tbody>\n",
       "</table>\n",
       "</div>"
      ],
      "text/plain": [
       "                                                    UID EncodedPixels  Age  \\\n",
       "1204  1.2.276.0.7230010.3.1.4.8323329.11106.15178752...            -1  413   \n",
       "9624  1.2.276.0.7230010.3.1.4.8323329.4830.151787518...            -1  148   \n",
       "\n",
       "     Sex Modality BodyPart ViewPosition  Pneumothorax  \n",
       "1204   F       CR    CHEST           AP             0  \n",
       "9624   M       CR    CHEST           PA             0  "
      ]
     },
     "execution_count": 7,
     "metadata": {},
     "output_type": "execute_result"
    }
   ],
   "source": [
    "df_patients[df_patients['Age'] > 100]"
   ]
  },
  {
   "cell_type": "markdown",
   "id": "a96fb896",
   "metadata": {},
   "source": [
    "Usuwamy niechcianych pacjentów"
   ]
  },
  {
   "cell_type": "code",
   "execution_count": 8,
   "id": "f5e30a39",
   "metadata": {
    "scrolled": true
   },
   "outputs": [
    {
     "name": "stdout",
     "output_type": "stream",
     "text": [
      "(12045, 8)\n"
     ]
    }
   ],
   "source": [
    "df_patients = df_patients.drop(df_patients[df_patients['Age'] > 100].index)\n",
    "print(df_patients.shape)"
   ]
  },
  {
   "cell_type": "code",
   "execution_count": 9,
   "id": "d80ba83e",
   "metadata": {},
   "outputs": [
    {
     "data": {
      "text/plain": [
       "CHEST    12045\n",
       "Name: BodyPart, dtype: int64"
      ]
     },
     "execution_count": 9,
     "metadata": {},
     "output_type": "execute_result"
    }
   ],
   "source": [
    "df_patients['BodyPart'].value_counts()"
   ]
  },
  {
   "cell_type": "markdown",
   "id": "1c23fc66",
   "metadata": {},
   "source": [
    "#### Kodowanie"
   ]
  },
  {
   "cell_type": "markdown",
   "id": "b4b7e7ca",
   "metadata": {},
   "source": [
    "Na początku pozbywam się kolumn, które nie dają żadnych infromacji - kolumna Modality jedynie przyjmuje wartość CR, a kolumna BodyPart wartość CHEST"
   ]
  },
  {
   "cell_type": "code",
   "execution_count": 10,
   "id": "bb1b7481",
   "metadata": {},
   "outputs": [],
   "source": [
    "df_patients.drop(columns=['Modality', 'BodyPart', 'UID', 'EncodedPixels'], inplace=True)"
   ]
  },
  {
   "cell_type": "markdown",
   "id": "b070d1ec",
   "metadata": {},
   "source": [
    "Kodowanie wieku"
   ]
  },
  {
   "cell_type": "code",
   "execution_count": 11,
   "id": "a4cf7b85",
   "metadata": {},
   "outputs": [
    {
     "data": {
      "text/plain": [
       "Adults           4192\n",
       "Middle_Adults    3918\n",
       "Elderly          3009\n",
       "Young             926\n",
       "Name: Age, dtype: int64"
      ]
     },
     "execution_count": 11,
     "metadata": {},
     "output_type": "execute_result"
    }
   ],
   "source": [
    "def zmienwiek(row):\n",
    "    if row['Age'] < 21:\n",
    "        result =  \"Young\"\n",
    "    elif row['Age'] < 45:\n",
    "        result = \"Middle_Adults\" \n",
    "    elif row['Age'] < 60:\n",
    "        result = \"Adults\" \n",
    "    else:\n",
    "        result =  \"Elderly\"\n",
    "    return result\n",
    "\n",
    "df_patients.Age = df_patients.apply(zmienwiek, axis = 1)\n",
    "df_patients.Age.value_counts()"
   ]
  },
  {
   "cell_type": "markdown",
   "id": "952ba93d",
   "metadata": {},
   "source": [
    "Kodowanie na danych kategorycznych"
   ]
  },
  {
   "cell_type": "code",
   "execution_count": 12,
   "id": "58115290",
   "metadata": {},
   "outputs": [],
   "source": [
    "df_patients['Sex'] = df_patients['Sex'].apply(lambda x: 0 if x == 'M' else 1)\n",
    "df_patients['ViewPosition'] = df_patients['ViewPosition'].apply(lambda x: 0 if x == 'PA' else 1)"
   ]
  },
  {
   "cell_type": "code",
   "execution_count": 13,
   "id": "8f0edcb3",
   "metadata": {},
   "outputs": [],
   "source": [
    "df_patients = pd.get_dummies(df_patients, columns=[\"Age\"])"
   ]
  },
  {
   "cell_type": "code",
   "execution_count": 14,
   "id": "1e099ec2",
   "metadata": {
    "scrolled": true
   },
   "outputs": [
    {
     "data": {
      "text/html": [
       "<div>\n",
       "<style scoped>\n",
       "    .dataframe tbody tr th:only-of-type {\n",
       "        vertical-align: middle;\n",
       "    }\n",
       "\n",
       "    .dataframe tbody tr th {\n",
       "        vertical-align: top;\n",
       "    }\n",
       "\n",
       "    .dataframe thead th {\n",
       "        text-align: right;\n",
       "    }\n",
       "</style>\n",
       "<table border=\"1\" class=\"dataframe\">\n",
       "  <thead>\n",
       "    <tr style=\"text-align: right;\">\n",
       "      <th></th>\n",
       "      <th>Sex</th>\n",
       "      <th>ViewPosition</th>\n",
       "      <th>Pneumothorax</th>\n",
       "      <th>Age_Adults</th>\n",
       "      <th>Age_Elderly</th>\n",
       "      <th>Age_Middle_Adults</th>\n",
       "      <th>Age_Young</th>\n",
       "    </tr>\n",
       "  </thead>\n",
       "  <tbody>\n",
       "    <tr>\n",
       "      <th>0</th>\n",
       "      <td>0</td>\n",
       "      <td>0</td>\n",
       "      <td>0</td>\n",
       "      <td>0</td>\n",
       "      <td>0</td>\n",
       "      <td>1</td>\n",
       "      <td>0</td>\n",
       "    </tr>\n",
       "    <tr>\n",
       "      <th>1</th>\n",
       "      <td>1</td>\n",
       "      <td>1</td>\n",
       "      <td>0</td>\n",
       "      <td>0</td>\n",
       "      <td>0</td>\n",
       "      <td>0</td>\n",
       "      <td>1</td>\n",
       "    </tr>\n",
       "    <tr>\n",
       "      <th>2</th>\n",
       "      <td>1</td>\n",
       "      <td>1</td>\n",
       "      <td>0</td>\n",
       "      <td>1</td>\n",
       "      <td>0</td>\n",
       "      <td>0</td>\n",
       "      <td>0</td>\n",
       "    </tr>\n",
       "    <tr>\n",
       "      <th>3</th>\n",
       "      <td>1</td>\n",
       "      <td>1</td>\n",
       "      <td>0</td>\n",
       "      <td>0</td>\n",
       "      <td>1</td>\n",
       "      <td>0</td>\n",
       "      <td>0</td>\n",
       "    </tr>\n",
       "    <tr>\n",
       "      <th>4</th>\n",
       "      <td>0</td>\n",
       "      <td>1</td>\n",
       "      <td>0</td>\n",
       "      <td>0</td>\n",
       "      <td>1</td>\n",
       "      <td>0</td>\n",
       "      <td>0</td>\n",
       "    </tr>\n",
       "  </tbody>\n",
       "</table>\n",
       "</div>"
      ],
      "text/plain": [
       "   Sex  ViewPosition  Pneumothorax  Age_Adults  Age_Elderly  \\\n",
       "0    0             0             0           0            0   \n",
       "1    1             1             0           0            0   \n",
       "2    1             1             0           1            0   \n",
       "3    1             1             0           0            1   \n",
       "4    0             1             0           0            1   \n",
       "\n",
       "   Age_Middle_Adults  Age_Young  \n",
       "0                  1          0  \n",
       "1                  0          1  \n",
       "2                  0          0  \n",
       "3                  0          0  \n",
       "4                  0          0  "
      ]
     },
     "execution_count": 14,
     "metadata": {},
     "output_type": "execute_result"
    }
   ],
   "source": [
    "df_patients.head()"
   ]
  },
  {
   "cell_type": "markdown",
   "id": "b53c799c",
   "metadata": {},
   "source": [
    "One Hot Encoding umożliwia bardziej ekspresyjną reprezentację danych kategorycznych. Wiele algorytmów uczenia maszynowego nie może bezpośrednio pracować z danymi kategorycznymi. Kategorie należy przekonwertować na liczby."
   ]
  },
  {
   "cell_type": "markdown",
   "id": "29750995",
   "metadata": {},
   "source": [
    "### siim"
   ]
  },
  {
   "cell_type": "code",
   "execution_count": 15,
   "id": "a18cd758",
   "metadata": {},
   "outputs": [],
   "source": [
    "data = pd.read_csv(\"C:\\\\Users\\\\maaja\\\\Documents\\\\WB_Prepro\\\\metadata_siim.csv\")"
   ]
  },
  {
   "cell_type": "code",
   "execution_count": 16,
   "id": "40b739e3",
   "metadata": {},
   "outputs": [],
   "source": [
    "data = pd.DataFrame(data, columns=[\"SOPInstanceUID\",\"AccessionNumber\",\n",
    "                                     \"BodyPartExamined\",\"DeidentificationMethod\",\"ImageType\",\n",
    "                                     \"Modality\",\"PatientID\",\"PatientName\",\"PatientSex\",\"PixelRepresentation\",\n",
    "                                     \"SeriesInstanceUID\",\"StudyDate\",\"StudyInstanceUID\",\"StudyTime\"])"
   ]
  },
  {
   "cell_type": "code",
   "execution_count": 17,
   "id": "3f02f077",
   "metadata": {},
   "outputs": [
    {
     "data": {
      "text/html": [
       "<div>\n",
       "<style scoped>\n",
       "    .dataframe tbody tr th:only-of-type {\n",
       "        vertical-align: middle;\n",
       "    }\n",
       "\n",
       "    .dataframe tbody tr th {\n",
       "        vertical-align: top;\n",
       "    }\n",
       "\n",
       "    .dataframe thead th {\n",
       "        text-align: right;\n",
       "    }\n",
       "</style>\n",
       "<table border=\"1\" class=\"dataframe\">\n",
       "  <thead>\n",
       "    <tr style=\"text-align: right;\">\n",
       "      <th></th>\n",
       "      <th>SOPInstanceUID</th>\n",
       "      <th>AccessionNumber</th>\n",
       "      <th>BodyPartExamined</th>\n",
       "      <th>DeidentificationMethod</th>\n",
       "      <th>ImageType</th>\n",
       "      <th>Modality</th>\n",
       "      <th>PatientID</th>\n",
       "      <th>PatientName</th>\n",
       "      <th>PatientSex</th>\n",
       "      <th>PixelRepresentation</th>\n",
       "      <th>SeriesInstanceUID</th>\n",
       "      <th>StudyDate</th>\n",
       "      <th>StudyInstanceUID</th>\n",
       "      <th>StudyTime</th>\n",
       "    </tr>\n",
       "  </thead>\n",
       "  <tbody>\n",
       "    <tr>\n",
       "      <th>0</th>\n",
       "      <td>000a312787f2</td>\n",
       "      <td>f6cd7f2019f5</td>\n",
       "      <td>CHEST</td>\n",
       "      <td>CTP Default:  based on DICOM PS3.15 AnnexE. De...</td>\n",
       "      <td>('ORIGINAL', 'PRIMARY')</td>\n",
       "      <td>DX</td>\n",
       "      <td>dcc3fdf6426a</td>\n",
       "      <td>d4268f26ed05</td>\n",
       "      <td>M</td>\n",
       "      <td>0</td>\n",
       "      <td>81456c9c5423</td>\n",
       "      <td>526316e376d4</td>\n",
       "      <td>5776db0cec75</td>\n",
       "      <td>8ccfb6acf07f</td>\n",
       "    </tr>\n",
       "    <tr>\n",
       "      <th>1</th>\n",
       "      <td>000c3a3f293f</td>\n",
       "      <td>1c2708371bc6</td>\n",
       "      <td>CHEST</td>\n",
       "      <td>CTP Default:  based on DICOM PS3.15 AnnexE. De...</td>\n",
       "      <td>('ORIGINAL', 'PRIMARY')</td>\n",
       "      <td>CR</td>\n",
       "      <td>f09ff9b7dab3</td>\n",
       "      <td>ef8c31f8dfdd</td>\n",
       "      <td>M</td>\n",
       "      <td>0</td>\n",
       "      <td>d8a644cc4f93</td>\n",
       "      <td>d09eda152722</td>\n",
       "      <td>ff0879eb20ed</td>\n",
       "      <td>543adb46f494</td>\n",
       "    </tr>\n",
       "    <tr>\n",
       "      <th>2</th>\n",
       "      <td>0012ff7358bc</td>\n",
       "      <td>99428f65d948</td>\n",
       "      <td>PORT CHEST</td>\n",
       "      <td>CTP Default:  based on DICOM PS3.15 AnnexE. De...</td>\n",
       "      <td>('DERIVED', 'PRIMARY')</td>\n",
       "      <td>DX</td>\n",
       "      <td>6a02c0731039</td>\n",
       "      <td>2f2fb944fe44</td>\n",
       "      <td>F</td>\n",
       "      <td>0</td>\n",
       "      <td>22897cd1daa0</td>\n",
       "      <td>96fc21dd2b1f</td>\n",
       "      <td>9d514ce429a7</td>\n",
       "      <td>746186a2bbf2</td>\n",
       "    </tr>\n",
       "    <tr>\n",
       "      <th>3</th>\n",
       "      <td>001398f4ff4f</td>\n",
       "      <td>7b889627faf1</td>\n",
       "      <td>CHEST</td>\n",
       "      <td>CTP Default:  based on DICOM PS3.15 AnnexE. De...</td>\n",
       "      <td>('DERIVED', 'PRIMARY', 'POST_PROCESSED', 'RT',...</td>\n",
       "      <td>CR</td>\n",
       "      <td>db63d9b7f61c</td>\n",
       "      <td>9ccd87b4511b</td>\n",
       "      <td>F</td>\n",
       "      <td>0</td>\n",
       "      <td>4d47bc042ee6</td>\n",
       "      <td>3f094e1700ec</td>\n",
       "      <td>28dddc8559b2</td>\n",
       "      <td>9c4f53a2d5e4</td>\n",
       "    </tr>\n",
       "    <tr>\n",
       "      <th>4</th>\n",
       "      <td>001bd15d1891</td>\n",
       "      <td>e9d93edf50c6</td>\n",
       "      <td>CHEST</td>\n",
       "      <td>CTP Default:  based on DICOM PS3.15 AnnexE. De...</td>\n",
       "      <td>('ORIGINAL', 'PRIMARY')</td>\n",
       "      <td>DX</td>\n",
       "      <td>605693f36f43</td>\n",
       "      <td>35bf9ddbf9e9</td>\n",
       "      <td>M</td>\n",
       "      <td>0</td>\n",
       "      <td>49170afa4f27</td>\n",
       "      <td>a69d89c8a474</td>\n",
       "      <td>dfd9fdd85a3e</td>\n",
       "      <td>5399ff949226</td>\n",
       "    </tr>\n",
       "  </tbody>\n",
       "</table>\n",
       "</div>"
      ],
      "text/plain": [
       "  SOPInstanceUID AccessionNumber BodyPartExamined  \\\n",
       "0   000a312787f2    f6cd7f2019f5            CHEST   \n",
       "1   000c3a3f293f    1c2708371bc6            CHEST   \n",
       "2   0012ff7358bc    99428f65d948       PORT CHEST   \n",
       "3   001398f4ff4f    7b889627faf1            CHEST   \n",
       "4   001bd15d1891    e9d93edf50c6            CHEST   \n",
       "\n",
       "                              DeidentificationMethod  \\\n",
       "0  CTP Default:  based on DICOM PS3.15 AnnexE. De...   \n",
       "1  CTP Default:  based on DICOM PS3.15 AnnexE. De...   \n",
       "2  CTP Default:  based on DICOM PS3.15 AnnexE. De...   \n",
       "3  CTP Default:  based on DICOM PS3.15 AnnexE. De...   \n",
       "4  CTP Default:  based on DICOM PS3.15 AnnexE. De...   \n",
       "\n",
       "                                           ImageType Modality     PatientID  \\\n",
       "0                            ('ORIGINAL', 'PRIMARY')       DX  dcc3fdf6426a   \n",
       "1                            ('ORIGINAL', 'PRIMARY')       CR  f09ff9b7dab3   \n",
       "2                             ('DERIVED', 'PRIMARY')       DX  6a02c0731039   \n",
       "3  ('DERIVED', 'PRIMARY', 'POST_PROCESSED', 'RT',...       CR  db63d9b7f61c   \n",
       "4                            ('ORIGINAL', 'PRIMARY')       DX  605693f36f43   \n",
       "\n",
       "    PatientName PatientSex  PixelRepresentation SeriesInstanceUID  \\\n",
       "0  d4268f26ed05          M                    0      81456c9c5423   \n",
       "1  ef8c31f8dfdd          M                    0      d8a644cc4f93   \n",
       "2  2f2fb944fe44          F                    0      22897cd1daa0   \n",
       "3  9ccd87b4511b          F                    0      4d47bc042ee6   \n",
       "4  35bf9ddbf9e9          M                    0      49170afa4f27   \n",
       "\n",
       "      StudyDate StudyInstanceUID     StudyTime  \n",
       "0  526316e376d4     5776db0cec75  8ccfb6acf07f  \n",
       "1  d09eda152722     ff0879eb20ed  543adb46f494  \n",
       "2  96fc21dd2b1f     9d514ce429a7  746186a2bbf2  \n",
       "3  3f094e1700ec     28dddc8559b2  9c4f53a2d5e4  \n",
       "4  a69d89c8a474     dfd9fdd85a3e  5399ff949226  "
      ]
     },
     "execution_count": 17,
     "metadata": {},
     "output_type": "execute_result"
    }
   ],
   "source": [
    "data.head()"
   ]
  },
  {
   "cell_type": "markdown",
   "id": "1ece11c2",
   "metadata": {},
   "source": [
    "Zauważamy, że możemy usunac wszystkie kolumny zakodowane"
   ]
  },
  {
   "cell_type": "code",
   "execution_count": 18,
   "id": "635ec24a",
   "metadata": {},
   "outputs": [],
   "source": [
    "data.drop(columns=['SOPInstanceUID', 'AccessionNumber', 'PatientID', 'PatientName',\n",
    "                          'SeriesInstanceUID', 'StudyDate', 'StudyInstanceUID', 'StudyTime'], inplace=True)"
   ]
  },
  {
   "cell_type": "code",
   "execution_count": 19,
   "id": "c191b1f7",
   "metadata": {},
   "outputs": [
    {
     "data": {
      "text/html": [
       "<div>\n",
       "<style scoped>\n",
       "    .dataframe tbody tr th:only-of-type {\n",
       "        vertical-align: middle;\n",
       "    }\n",
       "\n",
       "    .dataframe tbody tr th {\n",
       "        vertical-align: top;\n",
       "    }\n",
       "\n",
       "    .dataframe thead th {\n",
       "        text-align: right;\n",
       "    }\n",
       "</style>\n",
       "<table border=\"1\" class=\"dataframe\">\n",
       "  <thead>\n",
       "    <tr style=\"text-align: right;\">\n",
       "      <th></th>\n",
       "      <th>BodyPartExamined</th>\n",
       "      <th>DeidentificationMethod</th>\n",
       "      <th>ImageType</th>\n",
       "      <th>Modality</th>\n",
       "      <th>PatientSex</th>\n",
       "      <th>PixelRepresentation</th>\n",
       "    </tr>\n",
       "  </thead>\n",
       "  <tbody>\n",
       "    <tr>\n",
       "      <th>0</th>\n",
       "      <td>CHEST</td>\n",
       "      <td>CTP Default:  based on DICOM PS3.15 AnnexE. De...</td>\n",
       "      <td>('ORIGINAL', 'PRIMARY')</td>\n",
       "      <td>DX</td>\n",
       "      <td>M</td>\n",
       "      <td>0</td>\n",
       "    </tr>\n",
       "    <tr>\n",
       "      <th>1</th>\n",
       "      <td>CHEST</td>\n",
       "      <td>CTP Default:  based on DICOM PS3.15 AnnexE. De...</td>\n",
       "      <td>('ORIGINAL', 'PRIMARY')</td>\n",
       "      <td>CR</td>\n",
       "      <td>M</td>\n",
       "      <td>0</td>\n",
       "    </tr>\n",
       "    <tr>\n",
       "      <th>2</th>\n",
       "      <td>PORT CHEST</td>\n",
       "      <td>CTP Default:  based on DICOM PS3.15 AnnexE. De...</td>\n",
       "      <td>('DERIVED', 'PRIMARY')</td>\n",
       "      <td>DX</td>\n",
       "      <td>F</td>\n",
       "      <td>0</td>\n",
       "    </tr>\n",
       "    <tr>\n",
       "      <th>3</th>\n",
       "      <td>CHEST</td>\n",
       "      <td>CTP Default:  based on DICOM PS3.15 AnnexE. De...</td>\n",
       "      <td>('DERIVED', 'PRIMARY', 'POST_PROCESSED', 'RT',...</td>\n",
       "      <td>CR</td>\n",
       "      <td>F</td>\n",
       "      <td>0</td>\n",
       "    </tr>\n",
       "    <tr>\n",
       "      <th>4</th>\n",
       "      <td>CHEST</td>\n",
       "      <td>CTP Default:  based on DICOM PS3.15 AnnexE. De...</td>\n",
       "      <td>('ORIGINAL', 'PRIMARY')</td>\n",
       "      <td>DX</td>\n",
       "      <td>M</td>\n",
       "      <td>0</td>\n",
       "    </tr>\n",
       "  </tbody>\n",
       "</table>\n",
       "</div>"
      ],
      "text/plain": [
       "  BodyPartExamined                             DeidentificationMethod  \\\n",
       "0            CHEST  CTP Default:  based on DICOM PS3.15 AnnexE. De...   \n",
       "1            CHEST  CTP Default:  based on DICOM PS3.15 AnnexE. De...   \n",
       "2       PORT CHEST  CTP Default:  based on DICOM PS3.15 AnnexE. De...   \n",
       "3            CHEST  CTP Default:  based on DICOM PS3.15 AnnexE. De...   \n",
       "4            CHEST  CTP Default:  based on DICOM PS3.15 AnnexE. De...   \n",
       "\n",
       "                                           ImageType Modality PatientSex  \\\n",
       "0                            ('ORIGINAL', 'PRIMARY')       DX          M   \n",
       "1                            ('ORIGINAL', 'PRIMARY')       CR          M   \n",
       "2                             ('DERIVED', 'PRIMARY')       DX          F   \n",
       "3  ('DERIVED', 'PRIMARY', 'POST_PROCESSED', 'RT',...       CR          F   \n",
       "4                            ('ORIGINAL', 'PRIMARY')       DX          M   \n",
       "\n",
       "   PixelRepresentation  \n",
       "0                    0  \n",
       "1                    0  \n",
       "2                    0  \n",
       "3                    0  \n",
       "4                    0  "
      ]
     },
     "execution_count": 19,
     "metadata": {},
     "output_type": "execute_result"
    }
   ],
   "source": [
    "data.head()"
   ]
  },
  {
   "cell_type": "code",
   "execution_count": 20,
   "id": "fd4dee62",
   "metadata": {
    "scrolled": false
   },
   "outputs": [
    {
     "data": {
      "text/plain": [
       "CHEST         5047\n",
       "TORAX          307\n",
       "PORT CHEST     249\n",
       "T?RAX          156\n",
       "THORAX          77\n",
       "SKULL           57\n",
       "Pecho           21\n",
       "ABDOMEN         21\n",
       "2- TORAX         7\n",
       "TÒRAX            5\n",
       "PECHO            3\n",
       "Name: BodyPartExamined, dtype: int64"
      ]
     },
     "execution_count": 20,
     "metadata": {},
     "output_type": "execute_result"
    }
   ],
   "source": [
    "data.BodyPartExamined.value_counts()"
   ]
  },
  {
   "cell_type": "markdown",
   "id": "c19a8506",
   "metadata": {},
   "source": [
    "Widzimy, że mamy wartości 'T?ORAX', 'TORAX' oraz 'TÓRAX' '2-  TORAX', ktore jak domyslamy sie oznaczaja to samo, ponieważ 'TÓRAX' to hiszpańskie słowo na angielskie 'THORAX'. Jednak dodatkowo możemy zauważyć, że CHEST i THORAX to są synonimy dlatego te grupy zdjęć można połączyć. "
   ]
  },
  {
   "cell_type": "code",
   "execution_count": 21,
   "id": "652d6b57",
   "metadata": {},
   "outputs": [],
   "source": [
    "data = data.replace('TORAX','CHEST').replace('T?RAX','CHEST').replace('TÒRAX','CHEST').replace('THORAX','CHEST').replace('2- TORAX','CHEST')"
   ]
  },
  {
   "cell_type": "markdown",
   "id": "dbf86019",
   "metadata": {},
   "source": [
    "Następnie usuwam te wiersze które nie dotyczą klatki piersiowej - nie będziemy brać ich pod uwagę. Zostawiamy podział na CHEST i PORT CHEST, zauważając że PORT CHEST jest to badania podczas którego jest na zdjęciu jest widoczna rurka przymocowana do ludzkiej żyły"
   ]
  },
  {
   "cell_type": "code",
   "execution_count": 22,
   "id": "e7271c85",
   "metadata": {},
   "outputs": [],
   "source": [
    "data = data[(data['BodyPartExamined'] == \"CHEST\") | (data['BodyPartExamined'] == \"PORT CHEST\")]"
   ]
  },
  {
   "cell_type": "markdown",
   "id": "2bed6244",
   "metadata": {},
   "source": [
    "Po większym zapoznaniu z kolumnami niestety stwierdziliśmy, że w tej ramce kolumny nie niosą za sobą wystarczająco dużo informacji aby wytrenować model, dlatego nie przystąpiliśmy do kodowania."
   ]
  }
 ],
 "metadata": {
  "kernelspec": {
   "display_name": "Python 3 (ipykernel)",
   "language": "python",
   "name": "python3"
  },
  "language_info": {
   "codemirror_mode": {
    "name": "ipython",
    "version": 3
   },
   "file_extension": ".py",
   "mimetype": "text/x-python",
   "name": "python",
   "nbconvert_exporter": "python",
   "pygments_lexer": "ipython3",
   "version": "3.9.7"
  }
 },
 "nbformat": 4,
 "nbformat_minor": 5
}
